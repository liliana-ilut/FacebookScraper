{
 "cells": [
  {
   "cell_type": "code",
   "execution_count": null,
   "metadata": {},
   "outputs": [],
   "source": [
    "import requests\n",
    "from bs4 import BeautifulSoup\n",
    "import pandas as pd\n",
    "import os"
   ]
  },
  {
   "cell_type": "code",
   "execution_count": null,
   "metadata": {},
   "outputs": [],
   "source": [
    "#dependencies\n",
    "from splinter import Browser\n",
    "from splinter.exceptions import ElementDoesNotExist\n",
    "from bs4 import BeautifulSoup\n",
    "import requests\n",
    "# Module used to connect Python with MongoDb\n",
    "import pymongo\n",
    "import pandas as pd\n",
    "import os\n",
    "from bs4 import BeautifulSoup as bs"
   ]
  },
  {
   "cell_type": "code",
   "execution_count": null,
   "metadata": {},
   "outputs": [],
   "source": [
    "#executable path to driver (for Mac use)\n",
    "executable_path = {'executable_path': '/usr/local/bin/chromedriver'}\n",
    "browser = Browser('chrome', **executable_path, headless=False)"
   ]
  },
  {
   "cell_type": "code",
   "execution_count": null,
   "metadata": {},
   "outputs": [],
   "source": [
    "# URL of page to be scraped\n",
    "url = 'https://mars.nasa.gov/news/8744/nasa-engineers-checking-insights-weather-sensors/'\n",
    "browser.visit(url)"
   ]
  },
  {
   "cell_type": "code",
   "execution_count": null,
   "metadata": {},
   "outputs": [],
   "source": [
    "# HTML Object\n",
    "html = browser.html\n",
    "\n",
    "# Parse HTML with Beautiful Soup\n",
    "soup = BeautifulSoup(html, 'html.parser')"
   ]
  },
  {
   "cell_type": "code",
   "execution_count": null,
   "metadata": {},
   "outputs": [],
   "source": []
  },
  {
   "cell_type": "code",
   "execution_count": null,
   "metadata": {},
   "outputs": [],
   "source": []
  },
  {
   "cell_type": "code",
   "execution_count": null,
   "metadata": {},
   "outputs": [],
   "source": [
    "class FBGroupScraper:\n",
    "\n",
    "    def __init__(self, group_id):\n",
    "        self.group_id = group_id\n",
    "        self.page_url = \"https://mobile.facebook.com/groups/\" + self.group_id\n",
    "        self.page_content = \"\"\n",
    "\n",
    "    def get_page_content(self):\n",
    "        self.page_content = requests.get(self.page_url).text\n",
    "\n",
    "    def parse(self):\n",
    "        soup = BeautifulSoup(self.page_content, \"html.parser\")\n",
    "        feed_container = soup.find(id=\"m_group_stories_container\").find_all(\"p\")\n",
    "        for i in feed_container:\n",
    "            print(i.text)\n",
    "\n",
    "group_id = \"1463546523692520\"\n",
    "d = FBGroupScraper(group_id)\n",
    "d.get_page_content()\n",
    "d.parse()"
   ]
  },
  {
   "cell_type": "code",
   "execution_count": null,
   "metadata": {},
   "outputs": [],
   "source": []
  },
  {
   "cell_type": "code",
   "execution_count": null,
   "metadata": {},
   "outputs": [],
   "source": [
    "from facebook_scraper import get_posts"
   ]
  },
  {
   "cell_type": "code",
   "execution_count": null,
   "metadata": {},
   "outputs": [],
   "source": [
    "listposts = []\n",
    "for post in get_posts(\"anyfacebookpage\", pages=2):\n",
    "    print(post['text'][:50])\n",
    "    listposts.append(post)"
   ]
  },
  {
   "cell_type": "code",
   "execution_count": null,
   "metadata": {},
   "outputs": [],
   "source": [
    "import os\n",
    "from google.cloud import language_v1\n",
    "from google.cloud.language_v1 import enums\n",
    "from google.cloud import language\n",
    "from google.cloud.language import types\n",
    " \n",
    " \n",
    "os.environ['GOOGLE_APPLICATION_CREDENTIALS'] = \"yourNLPAPIkey\"\n",
    "client = language_v1.LanguageServiceClient()\n",
    " \n",
    "for x in range (len(listposts)):\n",
    "    \n",
    "    try:\n",
    " \n",
    "        document = types.Document(content=listposts[x][\"text\"], type=enums.Document.Type.PLAIN_TEXT)\n",
    "        sentiment = client.analyze_sentiment(document=document).document_sentiment\n",
    "        sscore = round(sentiment.score,4)\n",
    "        smag = round(sentiment.magnitude,4)\n",
    " \n",
    "        listposts[x][\"score\"] = sscore\n",
    "        listposts[x][\"magnitude\"] = smag\n",
    "        \n",
    "    except Exception as e:\n",
    "        print(e)\n",
    "        listposts[x][\"score\"] = 0\n",
    "        listposts[x][\"magnitude\"] = 0"
   ]
  },
  {
   "cell_type": "code",
   "execution_count": null,
   "metadata": {},
   "outputs": [],
   "source": [
    "import pandas as pd\n",
    " \n",
    "df = pd.DataFrame(listposts)\n",
    "df.to_excel('<filename>.xlsx', header=True, index=False)\n"
   ]
  },
  {
   "cell_type": "code",
   "execution_count": null,
   "metadata": {},
   "outputs": [],
   "source": [
    "# URL of page to be scraped\n",
    "url = 'https://mars.nasa.gov/news/8744/nasa-engineers-checking-insights-weather-sensors/'\n",
    "browser.visit(url)"
   ]
  },
  {
   "cell_type": "code",
   "execution_count": null,
   "metadata": {},
   "outputs": [],
   "source": []
  }
 ],
 "metadata": {
  "kernelspec": {
   "display_name": "Python 3",
   "language": "python",
   "name": "python3"
  },
  "language_info": {
   "codemirror_mode": {
    "name": "ipython",
    "version": 3
   },
   "file_extension": ".py",
   "mimetype": "text/x-python",
   "name": "python",
   "nbconvert_exporter": "python",
   "pygments_lexer": "ipython3",
   "version": "3.7.6"
  }
 },
 "nbformat": 4,
 "nbformat_minor": 4
}
